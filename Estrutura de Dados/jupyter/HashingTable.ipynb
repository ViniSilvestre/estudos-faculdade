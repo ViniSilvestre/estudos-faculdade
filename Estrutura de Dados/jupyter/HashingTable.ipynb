{
 "cells": [
  {
   "cell_type": "code",
   "execution_count": 1,
   "id": "a9f70194-7486-4497-a907-7be144b4c32f",
   "metadata": {},
   "outputs": [
    {
     "name": "stdin",
     "output_type": "stream",
     "text": [
      "Digite a chave (ou 'sair' para encerrar):  sair\n",
      "Digite a chave para consulta (ou 'sair' para encerrar):  sair\n"
     ]
    }
   ],
   "source": [
    "class TabelaEspalhamento:\n",
    "    def __init__(self, tamanho):\n",
    "        self.tamanho = tamanho\n",
    "        self.tabela = [None] * tamanho\n",
    "\n",
    "    def calcular_indice(self, chave):\n",
    "        # Método da divisão simples para calcular o índice\n",
    "        return hash(chave) % self.tamanho\n",
    "\n",
    "    def adicionar(self, chave, valor):\n",
    "        # Verifica se a chave e o valor são diferentes de zero e não são strings vazias\n",
    "        if chave == 0 or valor == 0 or chave == '' or valor == '':\n",
    "            print(\"Chave e valor não podem ser zero ou vazias. Encerrando o programa.\")\n",
    "            exit()\n",
    "\n",
    "        indice = self.calcular_indice(chave)\n",
    "\n",
    "        if self.tabela[indice] is None:\n",
    "            # Se a posição estiver vazia, cria uma lista para armazenar os pares chave-valor\n",
    "            self.tabela[indice] = []\n",
    "        else:\n",
    "            # Verifica se a chave já existe na posição\n",
    "            for k, _ in self.tabela[indice]:\n",
    "                if k == chave:\n",
    "                    print(f\"Colisão detectada para a chave '{chave}'. Encerrando o programa.\")\n",
    "                    exit()\n",
    "\n",
    "        # Adiciona o par chave-valor à lista na posição calculada\n",
    "        self.tabela[indice].append((chave, valor))\n",
    "\n",
    "    def obter(self, chave):\n",
    "        indice = self.calcular_indice(chave)\n",
    "\n",
    "        if self.tabela[indice] is not None:\n",
    "            # Procura o valor associado à chave na lista da posição calculada\n",
    "            for k, v in self.tabela[indice]:\n",
    "                if k == chave:\n",
    "                    return v\n",
    "\n",
    "        # Se a chave não for encontrada, retorna None\n",
    "        return None\n",
    "\n",
    "if __name__ == \"__main__\":\n",
    "    tamanho_tabela = 10\n",
    "    tabela = TabelaEspalhamento(tamanho_tabela)\n",
    "\n",
    "    # Loop para inserção de dados\n",
    "    while True:\n",
    "        chave = input(\"Digite a chave (ou 'sair' para encerrar): \")\n",
    "\n",
    "        if chave.lower() == \"sair\":\n",
    "            break\n",
    "\n",
    "        valor = input(\"Digite o valor: \")\n",
    "\n",
    "        # Verifica se a chave e o valor são diferentes de zero e não são strings vazias\n",
    "        if chave == '0' or valor == '0' or chave == '' or valor == '':\n",
    "            print(\"Chave e valor não podem ser zero ou vazias. Encerrando o programa.\")\n",
    "            exit()\n",
    "\n",
    "        tabela.adicionar(chave, valor)\n",
    "\n",
    "    # Loop para consulta de dados\n",
    "    while True:\n",
    "        chave_consulta = input(\"Digite a chave para consulta (ou 'sair' para encerrar): \")\n",
    "\n",
    "        if chave_consulta.lower() == \"sair\":\n",
    "            break\n",
    "\n",
    "        valor_associado = tabela.obter(chave_consulta)\n",
    "\n",
    "        if valor_associado is not None:\n",
    "            print(f\"Valor associado a '{chave_consulta}': {valor_associado}\")\n",
    "        else:\n",
    "            print(f\"Chave '{chave_consulta}' não encontrada na tabela.\")\n"
   ]
  }
 ],
 "metadata": {
  "kernelspec": {
   "display_name": "Python 3 (ipykernel)",
   "language": "python",
   "name": "python3"
  },
  "language_info": {
   "codemirror_mode": {
    "name": "ipython",
    "version": 3
   },
   "file_extension": ".py",
   "mimetype": "text/x-python",
   "name": "python",
   "nbconvert_exporter": "python",
   "pygments_lexer": "ipython3",
   "version": "3.12.0"
  }
 },
 "nbformat": 4,
 "nbformat_minor": 5
}
